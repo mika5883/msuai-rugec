{
 "cells": [
  {
   "cell_type": "code",
   "execution_count": null,
   "id": "a3396c76-68c2-4d4e-8b7c-14ee5901590d",
   "metadata": {
    "execution": {
     "iopub.execute_input": "2025-06-01T09:07:32.503691Z",
     "iopub.status.busy": "2025-06-01T09:07:32.503248Z",
     "iopub.status.idle": "2025-06-01T09:07:43.561333Z",
     "shell.execute_reply": "2025-06-01T09:07:43.560455Z",
     "shell.execute_reply.started": "2025-06-01T09:07:32.503670Z"
    },
    "tags": []
   },
   "outputs": [
    {
     "data": {
      "text/plain": [
       "'cuda'"
      ]
     },
     "execution_count": 1,
     "metadata": {},
     "output_type": "execute_result"
    }
   ],
   "source": [
    "import torch\n",
    "from tqdm import tqdm\n",
    "\n",
    "device = 'cuda' if torch.cuda.is_available() else 'cpu'\n",
    "device"
   ]
  },
  {
   "cell_type": "code",
   "execution_count": null,
   "id": "f368ed08-330e-47d4-8ff0-3e2b84f080dc",
   "metadata": {
    "execution": {
     "iopub.execute_input": "2025-06-01T09:07:43.563263Z",
     "iopub.status.busy": "2025-06-01T09:07:43.562770Z",
     "iopub.status.idle": "2025-06-01T09:08:34.707382Z",
     "shell.execute_reply": "2025-06-01T09:08:34.706510Z",
     "shell.execute_reply.started": "2025-06-01T09:07:43.563242Z"
    },
    "tags": []
   },
   "outputs": [
    {
     "name": "stdout",
     "output_type": "stream",
     "text": [
      "🦥 Unsloth: Will patch your computer to enable 2x faster free finetuning.\n"
     ]
    },
    {
     "name": "stderr",
     "output_type": "stream",
     "text": [
      "/home/jupyter/.local/lib/python3.10/site-packages/transformers/utils/hub.py:105: FutureWarning: Using `TRANSFORMERS_CACHE` is deprecated and will be removed in v5 of Transformers. Use `HF_HOME` instead.\n",
      "  warnings.warn(\n",
      "2025-06-01 09:08:03.004069: I tensorflow/core/platform/cpu_feature_guard.cc:182] This TensorFlow binary is optimized to use available CPU instructions in performance-critical operations.\n",
      "To enable the following instructions: AVX2 FMA, in other operations, rebuild TensorFlow with the appropriate compiler flags.\n",
      "2025-06-01 09:08:09.552773: W tensorflow/compiler/tf2tensorrt/utils/py_utils.cc:38] TF-TRT Warning: Could not find TensorRT\n"
     ]
    },
    {
     "name": "stdout",
     "output_type": "stream",
     "text": [
      "🦥 Unsloth Zoo will now patch everything to make training faster!\n"
     ]
    }
   ],
   "source": [
    "from unsloth import FastLanguageModel\n",
    "# import datasets\n",
    "# import numpy as np\n",
    "# from datasets import load_dataset\n",
    "import pandas as pd\n",
    "\n",
    "# import transformers\n",
    "from transformers import (\n",
    "    # AutoModelForSeq2SeqLM,\n",
    "    AutoModelForCausalLM,\n",
    "    AutoTokenizer,\n",
    ")\n",
    "\n",
    "# from transformers import Pipeline\n",
    "# from transformers.pipelines.pt_utils import KeyDataset\n",
    "from transformers import BitsAndBytesConfig\n",
    "from peft import PeftModel, PeftConfig"
   ]
  },
  {
   "cell_type": "code",
   "execution_count": 1,
   "id": "d4b2d8cc-c72f-497d-bcd4-21ba1efd8d1a",
   "metadata": {
    "execution": {
     "iopub.execute_input": "2025-05-30T19:20:36.097867Z",
     "iopub.status.busy": "2025-05-30T19:20:36.097536Z",
     "iopub.status.idle": "2025-05-30T19:29:48.293697Z",
     "shell.execute_reply": "2025-05-30T19:29:48.292876Z",
     "shell.execute_reply.started": "2025-05-30T19:20:36.097847Z"
    },
    "tags": []
   },
   "outputs": [],
   "source": [
    "# I use unsloth with qwen3\n",
    "\n",
    "# Your adapter repo or local dir\n",
    "# peft_model_id = \"mika5883/ru_qwen_gec\" # or your output_dir path\n",
    "# peft_model_id = 'mika5883/ru_qwen_gec_Ag_art'\n",
    "# # peft_model_id = 'mika5883/qwen3-4b_rugec'\n",
    "# # peft_model_id = 'mika5883/ru_qwen7b_gec_Ag'\n",
    "# # peft_model_id = 'mika5883/qwen3-14b_rugec'\n",
    "\n",
    "# peft_model_id = 'mika5883/ru_qwen7b_gec_Ga' # you can try this one if you want to test on GERA since it's easy to get \n",
    "\n",
    "# # Load adapter config\n",
    "# peft_config = PeftConfig.from_pretrained(peft_model_id)\n",
    "# bnb_config = BitsAndBytesConfig(\n",
    "#     load_in_4bit=True,\n",
    "#     bnb_4bit_use_double_quant=True,\n",
    "#     bnb_4bit_quant_type=\"nf4\",\n",
    "#     bnb_4bit_compute_dtype=torch.float16,\n",
    "#     # bnb_4bit_compute_dtype=torch.bf16,\n",
    "# )\n",
    "# # Load base model\n",
    "# base_model = AutoModelForCausalLM.from_pretrained(\n",
    "#     peft_config.base_model_name_or_path,\n",
    "#     trust_remote_code=True,\n",
    "#     device_map=\"auto\",\n",
    "#     quantization_config=bnb_config,\n",
    "#     low_cpu_mem_usage=True,\n",
    "# )\n",
    "\n",
    "# # Load tokenizer\n",
    "# tokenizer = AutoTokenizer.from_pretrained(peft_config.base_model_name_or_path, trust_remote_code=True)\n",
    "\n",
    "# # Merge LoRA adapter with base model\n",
    "# model = PeftModel.from_pretrained(base_model, peft_model_id)\n",
    "# model.config.use_cache = False"
   ]
  },
  {
   "cell_type": "code",
   "execution_count": 3,
   "id": "b3e8e2ba-16d1-45c8-b6c3-acdaf06fa2c0",
   "metadata": {
    "execution": {
     "iopub.execute_input": "2025-06-01T09:11:31.223680Z",
     "iopub.status.busy": "2025-06-01T09:11:31.223184Z",
     "iopub.status.idle": "2025-06-01T09:15:04.313443Z",
     "shell.execute_reply": "2025-06-01T09:15:04.312580Z",
     "shell.execute_reply.started": "2025-06-01T09:11:31.223658Z"
    },
    "tags": []
   },
   "outputs": [
    {
     "name": "stdout",
     "output_type": "stream",
     "text": [
      "==((====))==  Unsloth 2025.5.7: Fast Qwen3 patching. Transformers: 4.51.3.\n",
      "   \\\\   /|    NVIDIA A100-SXM4-80GB. Num GPUs = 1. Max memory: 79.325 GB. Platform: Linux.\n",
      "O^O/ \\_/ \\    Torch: 2.7.0+cu126. CUDA: 8.0. CUDA Toolkit: 12.6. Triton: 3.3.0\n",
      "\\        /    Bfloat16 = TRUE. FA [Xformers = 0.0.30. FA2 = False]\n",
      " \"-____-\"     Free license: http://github.com/unslothai/unsloth\n",
      "Unsloth: Fast downloading is enabled - ignore downloading bars which are red colored!\n"
     ]
    },
    {
     "name": "stderr",
     "output_type": "stream",
     "text": [
      "Loading checkpoint shards: 100%|██████████| 3/3 [03:07<00:00, 62.49s/it]\n",
      "Unsloth 2025.5.7 patched 40 layers with 40 QKV layers, 40 O layers and 40 MLP layers.\n"
     ]
    }
   ],
   "source": [
    "model_name = 'mika5883/qwen3-14b_rugec'\n",
    "model, tokenizer = FastLanguageModel.from_pretrained(\n",
    "    model_name = model_name, # YOUR MODEL YOU USED FOR TRAINING\n",
    "    max_seq_length = 512,\n",
    "    # dtype = dtype,\n",
    "    load_in_4bit = True,\n",
    "    # padding_side='left'\n",
    ")\n",
    "FastLanguageModel.for_inference(model)\n",
    "tokenizer.padding_side= 'left'"
   ]
  },
  {
   "cell_type": "code",
   "execution_count": null,
   "id": "aab6f7cf-fa48-426f-81b0-019291543074",
   "metadata": {
    "execution": {
     "iopub.execute_input": "2025-06-01T09:55:14.746402Z",
     "iopub.status.busy": "2025-06-01T09:55:14.745216Z",
     "iopub.status.idle": "2025-06-01T09:55:14.778923Z",
     "shell.execute_reply": "2025-06-01T09:55:14.777573Z",
     "shell.execute_reply.started": "2025-06-01T09:55:14.746377Z"
    },
    "tags": []
   },
   "outputs": [],
   "source": [
    "# test = 'data/rugec/RULEC-GEC.test.tsv'\n",
    "test = 'data/rugec/RULEC-GEC.dev.tsv'\n",
    "# test = 'data/rugec/GERA.test.tsv'\n",
    "rulec_test = pd.read_csv(test, delimiter='\\t')"
   ]
  },
  {
   "cell_type": "code",
   "execution_count": null,
   "id": "19a94fcb-d7b0-4196-9e55-b619900e63df",
   "metadata": {
    "execution": {
     "iopub.execute_input": "2025-06-01T09:15:04.404974Z",
     "iopub.status.busy": "2025-06-01T09:15:04.404657Z",
     "iopub.status.idle": "2025-06-01T09:15:04.440872Z",
     "shell.execute_reply": "2025-06-01T09:15:04.440225Z",
     "shell.execute_reply.started": "2025-06-01T09:15:04.404951Z"
    },
    "tags": []
   },
   "outputs": [],
   "source": [
    "import warnings\n",
    "warnings.filterwarnings(\"ignore\", message=\"An output with one or more elements was resized\") #got this message repeatedle when using qwen3."
   ]
  },
  {
   "cell_type": "code",
   "execution_count": null,
   "id": "01af41e0-43a7-422f-94f9-f69bb5ac0158",
   "metadata": {
    "execution": {
     "iopub.execute_input": "2025-06-01T09:55:18.988492Z",
     "iopub.status.busy": "2025-06-01T09:55:18.988051Z",
     "iopub.status.idle": "2025-06-01T09:55:23.146524Z",
     "shell.execute_reply": "2025-06-01T09:55:23.145582Z",
     "shell.execute_reply.started": "2025-06-01T09:55:18.988471Z"
    },
    "tags": []
   },
   "outputs": [
    {
     "name": "stderr",
     "output_type": "stream",
     "text": [
      "100%|██████████| 1/1 [00:04<00:00,  4.13s/it]"
     ]
    },
    {
     "name": "stdout",
     "output_type": "stream",
     "text": [
      "❌ Input: Он не был способен на найти решение.\n",
      "✅ Prediction: Он не был способен найти решение .\n",
      "\n",
      "❌ Input: Это пример теста с ошибками.\n",
      "✅ Prediction: Это пример теста с ошибками .\n",
      "\n",
      "❌ Input: У меня был друг, который всегда говорил, что можно работать не напрягаясь и получать хорошие деньги, но мне казалось, что это просто шутка.\n",
      "✅ Prediction: У меня был друг , который всегда говорил , что можно работать не напрягаясь и получать хорошие деньги , но мне казалось , что это просто шутка .\n",
      "\n"
     ]
    },
    {
     "name": "stderr",
     "output_type": "stream",
     "text": [
      "\n"
     ]
    }
   ],
   "source": [
    "def generate_predictions(input_sentences, batch_size=64, max_new_tokens=512):\n",
    "    all_predictions = []\n",
    "    \n",
    "    for i in tqdm(range(0, len(input_sentences), batch_size)):\n",
    "        batch = input_sentences[i:i+batch_size]        \n",
    "        \n",
    "        prompts = [\n",
    "            f\"<|im_start|>system\\nТы учитель русского языка, который проверяет эссе своих учеников.<|im_end|>\\n<|im_start|>user\\nИсправь ошибки в следующем предложении: {sentence}\\nИсправленное предложение:<|im_end|>\\n<|im_start|>assistant\\n\"\n",
    "            for sentence in batch\n",
    "        ]\n",
    "        \n",
    "        inputs = tokenizer(\n",
    "            prompts,\n",
    "            return_tensors=\"pt\",\n",
    "            # padding=True,\n",
    "            padding='max_length',\n",
    "            truncation=True,\n",
    "            max_length=512,\n",
    "        ).to(device)\n",
    "\n",
    "        with torch.no_grad():\n",
    "            outputs = model.generate(\n",
    "                input_ids=inputs.input_ids,\n",
    "                attention_mask=inputs.attention_mask,\n",
    "                max_new_tokens=max_new_tokens,\n",
    "                # num_beams=5,\n",
    "                temperature=0.7, top_p=0.8, top_k=20, min_p=0,#  min_p=0,\n",
    "                early_stopping=True,\n",
    "                eos_token_id=tokenizer.eos_token_id,\n",
    "                pad_token_id=tokenizer.pad_token_id,\n",
    "            )\n",
    "        # print(outputs.shape)\n",
    "        decoded = tokenizer.batch_decode(outputs, skip_special_tokens=True, clean_up_tokenization_spaces=False)\n",
    "\n",
    "        for full_output in decoded:\n",
    "            if \"Исправленное предложение:\" in full_output:\n",
    "                corrected = full_output.split(\"\\n\")[-1].strip()\n",
    "            else:\n",
    "                corrected = full_output.strip()\n",
    "            all_predictions.append(corrected)\n",
    "\n",
    "    return all_predictions\n",
    "\n",
    "\n",
    "\n",
    "# Example usage\n",
    "input_sentences = [\n",
    "    \"Он не был способен на найти решение.\",\n",
    "    \"Это пример теста с ошибками.\",\n",
    "    \"У меня был друг, который всегда говорил, что можно работать не напрягаясь и получать хорошие деньги, но мне казалось, что это просто шутка.\"\n",
    "]\n",
    "\n",
    "predictions = generate_predictions(input_sentences)\n",
    "for sentence, prediction in zip(input_sentences, predictions):\n",
    "    print(f\"❌ Input: {sentence}\")\n",
    "    print(f\"✅ Prediction: {prediction}\\n\")\n"
   ]
  },
  {
   "cell_type": "code",
   "execution_count": 15,
   "id": "a17b975a-546d-42f7-92aa-e0d60f4a0b56",
   "metadata": {
    "execution": {
     "iopub.execute_input": "2025-06-01T09:55:28.080496Z",
     "iopub.status.busy": "2025-06-01T09:55:28.080086Z",
     "iopub.status.idle": "2025-06-01T10:13:12.309713Z",
     "shell.execute_reply": "2025-06-01T10:13:12.308541Z",
     "shell.execute_reply.started": "2025-06-01T09:55:28.080475Z"
    },
    "tags": []
   },
   "outputs": [
    {
     "name": "stderr",
     "output_type": "stream",
     "text": [
      "100%|██████████| 40/40 [17:44<00:00, 26.61s/it]\n"
     ]
    }
   ],
   "source": [
    "rulec_test['corrected_sent'] = generate_predictions(rulec_test['corrupt_sent'])"
   ]
  },
  {
   "cell_type": "code",
   "execution_count": 16,
   "id": "638d35a6-1621-4a64-966d-7bee88c46d8c",
   "metadata": {
    "execution": {
     "iopub.execute_input": "2025-06-01T10:13:12.311395Z",
     "iopub.status.busy": "2025-06-01T10:13:12.311041Z",
     "iopub.status.idle": "2025-06-01T10:13:12.329121Z",
     "shell.execute_reply": "2025-06-01T10:13:12.327909Z",
     "shell.execute_reply.started": "2025-06-01T10:13:12.311373Z"
    },
    "tags": []
   },
   "outputs": [
    {
     "data": {
      "text/html": [
       "<div>\n",
       "<style scoped>\n",
       "    .dataframe tbody tr th:only-of-type {\n",
       "        vertical-align: middle;\n",
       "    }\n",
       "\n",
       "    .dataframe tbody tr th {\n",
       "        vertical-align: top;\n",
       "    }\n",
       "\n",
       "    .dataframe thead th {\n",
       "        text-align: right;\n",
       "    }\n",
       "</style>\n",
       "<table border=\"1\" class=\"dataframe\">\n",
       "  <thead>\n",
       "    <tr style=\"text-align: right;\">\n",
       "      <th></th>\n",
       "      <th>corrupt_sent</th>\n",
       "      <th>correct_sent</th>\n",
       "      <th>corrected_sent</th>\n",
       "    </tr>\n",
       "  </thead>\n",
       "  <tbody>\n",
       "    <tr>\n",
       "      <th>0</th>\n",
       "      <td>Экскурсия прошла великолепно , Владимир Анатол...</td>\n",
       "      <td>Экскурсия прошла великолепно , Владимир Анатол...</td>\n",
       "      <td>Экскурсия прошла великолепно , Владимир Анатол...</td>\n",
       "    </tr>\n",
       "    <tr>\n",
       "      <th>1</th>\n",
       "      <td>Курсовая может быть о любой теме , которую обс...</td>\n",
       "      <td>Курсовая может быть по любой теме , которую об...</td>\n",
       "      <td>Курсовая может быть о любой теме , которую обс...</td>\n",
       "    </tr>\n",
       "    <tr>\n",
       "      <th>2</th>\n",
       "      <td>Я вижу , я слышу всё вокруг меня .</td>\n",
       "      <td>Я вижу , я слышу всё вокруг меня .</td>\n",
       "      <td>Я вижу , я слышу всё вокруг меня .</td>\n",
       "    </tr>\n",
       "    <tr>\n",
       "      <th>3</th>\n",
       "      <td>Служить в Российской армии ( для мужчин )</td>\n",
       "      <td>Служить в Российской армии ( для мужчин )</td>\n",
       "      <td>Служить в Российской армии ( для мужчин )</td>\n",
       "    </tr>\n",
       "    <tr>\n",
       "      <th>4</th>\n",
       "      <td>Вряд ли все мир обеспокоился бы из-за бунта в ...</td>\n",
       "      <td>Вряд ли весь мир обеспокоился бы из-за бунта в...</td>\n",
       "      <td>Вряд ли весь мир обеспокоился бы из-за бунта в...</td>\n",
       "    </tr>\n",
       "    <tr>\n",
       "      <th>...</th>\n",
       "      <td>...</td>\n",
       "      <td>...</td>\n",
       "      <td>...</td>\n",
       "    </tr>\n",
       "    <tr>\n",
       "      <th>2495</th>\n",
       "      <td>Его маятник двигался взад и вперёд в одной пло...</td>\n",
       "      <td>Его маятник двигался взад и вперёд в одной пло...</td>\n",
       "      <td>Его маятник двигался взад и вперёд в одной пло...</td>\n",
       "    </tr>\n",
       "    <tr>\n",
       "      <th>2496</th>\n",
       "      <td>Например , в настоящее время в Соединённых шта...</td>\n",
       "      <td>Например , в настоящее время в Соединённых Шта...</td>\n",
       "      <td>Например , в настоящее время в Соединённых шта...</td>\n",
       "    </tr>\n",
       "    <tr>\n",
       "      <th>2497</th>\n",
       "      <td>Иногда женщины делают вещи , которые очень раз...</td>\n",
       "      <td>Иногда женщины делают вещи , которые очень раз...</td>\n",
       "      <td>Иногда женщины делают вещи , которые очень раз...</td>\n",
       "    </tr>\n",
       "    <tr>\n",
       "      <th>2498</th>\n",
       "      <td>30 . 11 . 2009</td>\n",
       "      <td>30 . 11 . 2009</td>\n",
       "      <td>30 . 11 . 2009</td>\n",
       "    </tr>\n",
       "    <tr>\n",
       "      <th>2499</th>\n",
       "      <td>Половина всех американцев живёт в доме , где е...</td>\n",
       "      <td>Половина всех американцев живёт в домах , где ...</td>\n",
       "      <td>Половина всех американцев живёт в доме , где е...</td>\n",
       "    </tr>\n",
       "  </tbody>\n",
       "</table>\n",
       "<p>2500 rows × 3 columns</p>\n",
       "</div>"
      ],
      "text/plain": [
       "                                           corrupt_sent  \\\n",
       "0     Экскурсия прошла великолепно , Владимир Анатол...   \n",
       "1     Курсовая может быть о любой теме , которую обс...   \n",
       "2                    Я вижу , я слышу всё вокруг меня .   \n",
       "3             Служить в Российской армии ( для мужчин )   \n",
       "4     Вряд ли все мир обеспокоился бы из-за бунта в ...   \n",
       "...                                                 ...   \n",
       "2495  Его маятник двигался взад и вперёд в одной пло...   \n",
       "2496  Например , в настоящее время в Соединённых шта...   \n",
       "2497  Иногда женщины делают вещи , которые очень раз...   \n",
       "2498                                     30 . 11 . 2009   \n",
       "2499  Половина всех американцев живёт в доме , где е...   \n",
       "\n",
       "                                           correct_sent  \\\n",
       "0     Экскурсия прошла великолепно , Владимир Анатол...   \n",
       "1     Курсовая может быть по любой теме , которую об...   \n",
       "2                    Я вижу , я слышу всё вокруг меня .   \n",
       "3             Служить в Российской армии ( для мужчин )   \n",
       "4     Вряд ли весь мир обеспокоился бы из-за бунта в...   \n",
       "...                                                 ...   \n",
       "2495  Его маятник двигался взад и вперёд в одной пло...   \n",
       "2496  Например , в настоящее время в Соединённых Шта...   \n",
       "2497  Иногда женщины делают вещи , которые очень раз...   \n",
       "2498                                     30 . 11 . 2009   \n",
       "2499  Половина всех американцев живёт в домах , где ...   \n",
       "\n",
       "                                         corrected_sent  \n",
       "0     Экскурсия прошла великолепно , Владимир Анатол...  \n",
       "1     Курсовая может быть о любой теме , которую обс...  \n",
       "2                    Я вижу , я слышу всё вокруг меня .  \n",
       "3             Служить в Российской армии ( для мужчин )  \n",
       "4     Вряд ли весь мир обеспокоился бы из-за бунта в...  \n",
       "...                                                 ...  \n",
       "2495  Его маятник двигался взад и вперёд в одной пло...  \n",
       "2496  Например , в настоящее время в Соединённых шта...  \n",
       "2497  Иногда женщины делают вещи , которые очень раз...  \n",
       "2498                                     30 . 11 . 2009  \n",
       "2499  Половина всех американцев живёт в доме , где е...  \n",
       "\n",
       "[2500 rows x 3 columns]"
      ]
     },
     "execution_count": 16,
     "metadata": {},
     "output_type": "execute_result"
    }
   ],
   "source": [
    "rulec_test"
   ]
  },
  {
   "cell_type": "code",
   "execution_count": 17,
   "id": "4c4488ac-96d5-4ea3-962f-80ee79ba311f",
   "metadata": {
    "execution": {
     "iopub.execute_input": "2025-06-01T10:13:12.330412Z",
     "iopub.status.busy": "2025-06-01T10:13:12.330053Z",
     "iopub.status.idle": "2025-06-01T10:13:12.341557Z",
     "shell.execute_reply": "2025-06-01T10:13:12.340734Z",
     "shell.execute_reply.started": "2025-06-01T10:13:12.330392Z"
    },
    "tags": []
   },
   "outputs": [],
   "source": [
    "rulec_test = rulec_test.drop(columns=['correct_sent'])\n",
    "rulec_test = rulec_test.rename(columns={'corrupt_sent' : 'corrupt', 'corrected_sent' : 'corrected'})"
   ]
  },
  {
   "cell_type": "code",
   "execution_count": 18,
   "id": "748318bb-e006-47a4-a014-af10c854b200",
   "metadata": {
    "execution": {
     "iopub.execute_input": "2025-06-01T10:13:12.343723Z",
     "iopub.status.busy": "2025-06-01T10:13:12.343378Z",
     "iopub.status.idle": "2025-06-01T10:13:12.357925Z",
     "shell.execute_reply": "2025-06-01T10:13:12.357157Z",
     "shell.execute_reply.started": "2025-06-01T10:13:12.343702Z"
    },
    "tags": []
   },
   "outputs": [
    {
     "data": {
      "text/html": [
       "<div>\n",
       "<style scoped>\n",
       "    .dataframe tbody tr th:only-of-type {\n",
       "        vertical-align: middle;\n",
       "    }\n",
       "\n",
       "    .dataframe tbody tr th {\n",
       "        vertical-align: top;\n",
       "    }\n",
       "\n",
       "    .dataframe thead th {\n",
       "        text-align: right;\n",
       "    }\n",
       "</style>\n",
       "<table border=\"1\" class=\"dataframe\">\n",
       "  <thead>\n",
       "    <tr style=\"text-align: right;\">\n",
       "      <th></th>\n",
       "      <th>corrupt</th>\n",
       "      <th>corrected</th>\n",
       "    </tr>\n",
       "  </thead>\n",
       "  <tbody>\n",
       "    <tr>\n",
       "      <th>0</th>\n",
       "      <td>Экскурсия прошла великолепно , Владимир Анатол...</td>\n",
       "      <td>Экскурсия прошла великолепно , Владимир Анатол...</td>\n",
       "    </tr>\n",
       "    <tr>\n",
       "      <th>1</th>\n",
       "      <td>Курсовая может быть о любой теме , которую обс...</td>\n",
       "      <td>Курсовая может быть о любой теме , которую обс...</td>\n",
       "    </tr>\n",
       "    <tr>\n",
       "      <th>2</th>\n",
       "      <td>Я вижу , я слышу всё вокруг меня .</td>\n",
       "      <td>Я вижу , я слышу всё вокруг меня .</td>\n",
       "    </tr>\n",
       "    <tr>\n",
       "      <th>3</th>\n",
       "      <td>Служить в Российской армии ( для мужчин )</td>\n",
       "      <td>Служить в Российской армии ( для мужчин )</td>\n",
       "    </tr>\n",
       "    <tr>\n",
       "      <th>4</th>\n",
       "      <td>Вряд ли все мир обеспокоился бы из-за бунта в ...</td>\n",
       "      <td>Вряд ли весь мир обеспокоился бы из-за бунта в...</td>\n",
       "    </tr>\n",
       "    <tr>\n",
       "      <th>...</th>\n",
       "      <td>...</td>\n",
       "      <td>...</td>\n",
       "    </tr>\n",
       "    <tr>\n",
       "      <th>2495</th>\n",
       "      <td>Его маятник двигался взад и вперёд в одной пло...</td>\n",
       "      <td>Его маятник двигался взад и вперёд в одной пло...</td>\n",
       "    </tr>\n",
       "    <tr>\n",
       "      <th>2496</th>\n",
       "      <td>Например , в настоящее время в Соединённых шта...</td>\n",
       "      <td>Например , в настоящее время в Соединённых шта...</td>\n",
       "    </tr>\n",
       "    <tr>\n",
       "      <th>2497</th>\n",
       "      <td>Иногда женщины делают вещи , которые очень раз...</td>\n",
       "      <td>Иногда женщины делают вещи , которые очень раз...</td>\n",
       "    </tr>\n",
       "    <tr>\n",
       "      <th>2498</th>\n",
       "      <td>30 . 11 . 2009</td>\n",
       "      <td>30 . 11 . 2009</td>\n",
       "    </tr>\n",
       "    <tr>\n",
       "      <th>2499</th>\n",
       "      <td>Половина всех американцев живёт в доме , где е...</td>\n",
       "      <td>Половина всех американцев живёт в доме , где е...</td>\n",
       "    </tr>\n",
       "  </tbody>\n",
       "</table>\n",
       "<p>2500 rows × 2 columns</p>\n",
       "</div>"
      ],
      "text/plain": [
       "                                                corrupt  \\\n",
       "0     Экскурсия прошла великолепно , Владимир Анатол...   \n",
       "1     Курсовая может быть о любой теме , которую обс...   \n",
       "2                    Я вижу , я слышу всё вокруг меня .   \n",
       "3             Служить в Российской армии ( для мужчин )   \n",
       "4     Вряд ли все мир обеспокоился бы из-за бунта в ...   \n",
       "...                                                 ...   \n",
       "2495  Его маятник двигался взад и вперёд в одной пло...   \n",
       "2496  Например , в настоящее время в Соединённых шта...   \n",
       "2497  Иногда женщины делают вещи , которые очень раз...   \n",
       "2498                                     30 . 11 . 2009   \n",
       "2499  Половина всех американцев живёт в доме , где е...   \n",
       "\n",
       "                                              corrected  \n",
       "0     Экскурсия прошла великолепно , Владимир Анатол...  \n",
       "1     Курсовая может быть о любой теме , которую обс...  \n",
       "2                    Я вижу , я слышу всё вокруг меня .  \n",
       "3             Служить в Российской армии ( для мужчин )  \n",
       "4     Вряд ли весь мир обеспокоился бы из-за бунта в...  \n",
       "...                                                 ...  \n",
       "2495  Его маятник двигался взад и вперёд в одной пло...  \n",
       "2496  Например , в настоящее время в Соединённых шта...  \n",
       "2497  Иногда женщины делают вещи , которые очень раз...  \n",
       "2498                                     30 . 11 . 2009  \n",
       "2499  Половина всех американцев живёт в доме , где е...  \n",
       "\n",
       "[2500 rows x 2 columns]"
      ]
     },
     "execution_count": 18,
     "metadata": {},
     "output_type": "execute_result"
    }
   ],
   "source": [
    "rulec_test"
   ]
  },
  {
   "cell_type": "code",
   "execution_count": null,
   "id": "9db8c789-f667-49c4-b5ae-330cbfa4f348",
   "metadata": {
    "execution": {
     "iopub.execute_input": "2025-06-01T10:13:12.359103Z",
     "iopub.status.busy": "2025-06-01T10:13:12.358770Z",
     "iopub.status.idle": "2025-06-01T10:13:12.396554Z",
     "shell.execute_reply": "2025-06-01T10:13:12.395759Z",
     "shell.execute_reply.started": "2025-06-01T10:13:12.359084Z"
    },
    "tags": []
   },
   "outputs": [],
   "source": [
    "rulec_test.to_csv('results/qwen2.5-14b_dev.tsv', sep='\\t', index=False) #use your path"
   ]
  },
  {
   "cell_type": "code",
   "execution_count": null,
   "id": "71e289ec-61f3-4a70-8476-5a1b114d6912",
   "metadata": {},
   "outputs": [],
   "source": []
  }
 ],
 "metadata": {
  "kernelspec": {
   "display_name": "Python 3",
   "language": "python",
   "name": "python3"
  },
  "language_info": {
   "codemirror_mode": {
    "name": "ipython",
    "version": 3
   },
   "file_extension": ".py",
   "mimetype": "text/x-python",
   "name": "python",
   "nbconvert_exporter": "python",
   "pygments_lexer": "ipython3",
   "version": "3.10.11"
  }
 },
 "nbformat": 4,
 "nbformat_minor": 5
}
